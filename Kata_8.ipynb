{
 "cells": [
  {
   "cell_type": "markdown",
   "metadata": {},
   "source": [
    "# KATA 8"
   ]
  },
  {
   "cell_type": "markdown",
   "metadata": {},
   "source": [
    "# Ejercicio 1: Creación de diccionarios de Python\n",
    "Ejercicio: Crear y modificar un diccionario de Python.\n",
    "\n",
    "Crear un diccionario que almacene información sobre el planeta Marte."
   ]
  },
  {
   "cell_type": "code",
   "execution_count": 1,
   "metadata": {},
   "outputs": [],
   "source": [
    "planeta = {\n",
    "    'nombre' : 'Marte',\n",
    "    'lunas' : 2\n",
    "}"
   ]
  },
  {
   "cell_type": "code",
   "execution_count": 2,
   "metadata": {},
   "outputs": [
    {
     "name": "stdout",
     "output_type": "stream",
     "text": [
      "¡El planeta Marte tiene 2 lunas!\n"
     ]
    }
   ],
   "source": [
    "print('¡El planeta', planeta.get('nombre'), 'tiene', planeta.get('lunas'), 'lunas!' )"
   ]
  },
  {
   "cell_type": "code",
   "execution_count": 3,
   "metadata": {},
   "outputs": [],
   "source": [
    "planeta['circunferencia (km)'] = {\n",
    "    'polar': 6752,\n",
    "    'ecuatorial': 6792\n",
    "}"
   ]
  },
  {
   "cell_type": "code",
   "execution_count": 4,
   "metadata": {},
   "outputs": [
    {
     "name": "stdout",
     "output_type": "stream",
     "text": [
      "Marte tiene una circunferencia polar de 6752\n"
     ]
    }
   ],
   "source": [
    "print(f'{planeta[\"nombre\"]} tiene una circunferencia polar de {planeta[\"circunferencia (km)\"][\"polar\"]}')"
   ]
  },
  {
   "cell_type": "markdown",
   "metadata": {},
   "source": [
    "# Ejercicio 2: Programación dinámica con diccionarios\n",
    "Cálculo de valores\n",
    "\n",
    "Calcular tanto el número total de lunas en el sistema solar como el número promedio de lunas que tiene un planeta."
   ]
  },
  {
   "cell_type": "code",
   "execution_count": 5,
   "metadata": {},
   "outputs": [],
   "source": [
    "lunas_planetas = {\n",
    "    'mercurio': 0,\n",
    "    'venus': 0,\n",
    "    'tierra': 1,\n",
    "    'marte': 2,\n",
    "    'jupiter': 79,\n",
    "    'saturno': 82,\n",
    "    'urano': 27,\n",
    "    'neptuno': 14,\n",
    "    'pluton': 5,\n",
    "    'haumea': 2,\n",
    "    'makemake': 1,\n",
    "    'eris': 1\n",
    "}"
   ]
  },
  {
   "cell_type": "code",
   "execution_count": 6,
   "metadata": {},
   "outputs": [],
   "source": [
    "lunas = lunas_planetas.values()\n",
    "\n",
    "planetas = len(lunas_planetas.keys())"
   ]
  },
  {
   "cell_type": "code",
   "execution_count": 7,
   "metadata": {},
   "outputs": [],
   "source": [
    "total_lunas = 0\n",
    "for luna in lunas:\n",
    "    total_lunas = total_lunas + luna"
   ]
  },
  {
   "cell_type": "code",
   "execution_count": 8,
   "metadata": {},
   "outputs": [
    {
     "name": "stdout",
     "output_type": "stream",
     "text": [
      "17.833333333333332\n"
     ]
    }
   ],
   "source": [
    "promedio = total_lunas / planetas\n",
    "print(promedio)"
   ]
  }
 ],
 "metadata": {
  "interpreter": {
   "hash": "0432cb75d53c4c3fc3b2ff7a011aa0c03aefaeb339d438555495bce6647ee539"
  },
  "kernelspec": {
   "display_name": "Python 3.10.2 64-bit",
   "language": "python",
   "name": "python3"
  },
  "language_info": {
   "codemirror_mode": {
    "name": "ipython",
    "version": 3
   },
   "file_extension": ".py",
   "mimetype": "text/x-python",
   "name": "python",
   "nbconvert_exporter": "python",
   "pygments_lexer": "ipython3",
   "version": "3.10.2"
  },
  "orig_nbformat": 4
 },
 "nbformat": 4,
 "nbformat_minor": 2
}
