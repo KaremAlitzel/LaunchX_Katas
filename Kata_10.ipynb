{
 "cells": [
  {
   "cell_type": "markdown",
   "metadata": {},
   "source": [
    "# KATA 10"
   ]
  },
  {
   "cell_type": "markdown",
   "metadata": {},
   "source": [
    "# Generación de excepciones\n",
    "Los astronautas limitan su uso de agua a unos 11 litros al día. \n",
    "\n",
    "Crear una función que, con base al número de astronautas, pueda calcular la cantidad de agua quedará después de un día o más."
   ]
  },
  {
   "cell_type": "code",
   "execution_count": 42,
   "metadata": {},
   "outputs": [],
   "source": [
    "def agua_sobrante(astronautas, agua_sobrante, dias_sobrantes):\n",
    "    uso_por_dia = astronautas * 11\n",
    "    uso_total = uso_por_dia * dias_sobrantes\n",
    "    agua_total_sobrante = agua_sobrante - uso_total\n",
    "    return f\"El agua total que resta después de {dias_sobrantes} días es: {agua_total_sobrante} litros\""
   ]
  },
  {
   "cell_type": "code",
   "execution_count": 43,
   "metadata": {},
   "outputs": [
    {
     "name": "stdout",
     "output_type": "stream",
     "text": [
      "El agua total que resta después de 2 días es: -10 litros\n"
     ]
    }
   ],
   "source": [
    "print(agua_sobrante(5, 100, 2))"
   ]
  },
  {
   "cell_type": "code",
   "execution_count": 44,
   "metadata": {},
   "outputs": [],
   "source": [
    "def agua_sobrante(astronautas, agua_sobrante, dias_sobrantes):\n",
    "    uso_por_dia = astronautas * 11\n",
    "    uso_total = uso_por_dia * dias_sobrantes\n",
    "    agua_total_sobrante = agua_sobrante - uso_total\n",
    "    if agua_total_sobrante < 0:\n",
    "        raise RuntimeError(f\"¡Advertencia! Ya no habrá suficiente agua para {astronautas} astronautas despues de {dias_sobrantes} días!\") \n",
    "    return f\"El agua total que resta después de {dias_sobrantes} días es: {agua_total_sobrante} litros\""
   ]
  },
  {
   "cell_type": "code",
   "execution_count": 45,
   "metadata": {},
   "outputs": [
    {
     "ename": "RuntimeError",
     "evalue": "¡Advertencia! Ya no habrá suficiente agua para 5 astronautas despues de 2 días!",
     "output_type": "error",
     "traceback": [
      "\u001b[1;31m---------------------------------------------------------------------------\u001b[0m",
      "\u001b[1;31mRuntimeError\u001b[0m                              Traceback (most recent call last)",
      "\u001b[1;32mc:\\Users\\Karem\\OneDrive\\Documentos\\Katas\\Kata_10.ipynb Cell 6'\u001b[0m in \u001b[0;36m<module>\u001b[1;34m\u001b[0m\n\u001b[1;32m----> <a href='vscode-notebook-cell:/c%3A/Users/Karem/OneDrive/Documentos/Katas/Kata_10.ipynb#ch0000005?line=0'>1</a>\u001b[0m \u001b[39mprint\u001b[39m(agua_sobrante(\u001b[39m5\u001b[39;49m, \u001b[39m100\u001b[39;49m, \u001b[39m2\u001b[39;49m))\n",
      "\u001b[1;32mc:\\Users\\Karem\\OneDrive\\Documentos\\Katas\\Kata_10.ipynb Cell 5'\u001b[0m in \u001b[0;36magua_sobrante\u001b[1;34m(astronautas, agua_sobrante, dias_sobrantes)\u001b[0m\n\u001b[0;32m      <a href='vscode-notebook-cell:/c%3A/Users/Karem/OneDrive/Documentos/Katas/Kata_10.ipynb#ch0000004?line=3'>4</a>\u001b[0m agua_total_sobrante \u001b[39m=\u001b[39m agua_sobrante \u001b[39m-\u001b[39m uso_total\n\u001b[0;32m      <a href='vscode-notebook-cell:/c%3A/Users/Karem/OneDrive/Documentos/Katas/Kata_10.ipynb#ch0000004?line=4'>5</a>\u001b[0m \u001b[39mif\u001b[39;00m agua_total_sobrante \u001b[39m<\u001b[39m \u001b[39m0\u001b[39m:\n\u001b[1;32m----> <a href='vscode-notebook-cell:/c%3A/Users/Karem/OneDrive/Documentos/Katas/Kata_10.ipynb#ch0000004?line=5'>6</a>\u001b[0m     \u001b[39mraise\u001b[39;00m \u001b[39mRuntimeError\u001b[39;00m(\u001b[39mf\u001b[39m\u001b[39m\"\u001b[39m\u001b[39m¡Advertencia! Ya no habrá suficiente agua para \u001b[39m\u001b[39m{\u001b[39;00mastronautas\u001b[39m}\u001b[39;00m\u001b[39m astronautas despues de \u001b[39m\u001b[39m{\u001b[39;00mdias_sobrantes\u001b[39m}\u001b[39;00m\u001b[39m días!\u001b[39m\u001b[39m\"\u001b[39m) \n\u001b[0;32m      <a href='vscode-notebook-cell:/c%3A/Users/Karem/OneDrive/Documentos/Katas/Kata_10.ipynb#ch0000004?line=6'>7</a>\u001b[0m \u001b[39mreturn\u001b[39;00m \u001b[39mf\u001b[39m\u001b[39m\"\u001b[39m\u001b[39mEl agua total que resta después de \u001b[39m\u001b[39m{\u001b[39;00mdias_sobrantes\u001b[39m}\u001b[39;00m\u001b[39m días es: \u001b[39m\u001b[39m{\u001b[39;00magua_total_sobrante\u001b[39m}\u001b[39;00m\u001b[39m litros\u001b[39m\u001b[39m\"\u001b[39m\n",
      "\u001b[1;31mRuntimeError\u001b[0m: ¡Advertencia! Ya no habrá suficiente agua para 5 astronautas despues de 2 días!"
     ]
    }
   ],
   "source": [
    "print(agua_sobrante(5, 100, 2))"
   ]
  },
  {
   "cell_type": "code",
   "execution_count": 46,
   "metadata": {},
   "outputs": [
    {
     "name": "stdout",
     "output_type": "stream",
     "text": [
      "¡Advertencia! Ya no habrá suficiente agua para 5 astronautas despues de 2 días!\n"
     ]
    }
   ],
   "source": [
    "try:\n",
    "    agua_sobrante(5, 100, 2)\n",
    "except RuntimeError as err:\n",
    "    print(f\"{err}\")"
   ]
  },
  {
   "cell_type": "code",
   "execution_count": 47,
   "metadata": {},
   "outputs": [
    {
     "ename": "TypeError",
     "evalue": "can't multiply sequence by non-int of type 'NoneType'",
     "output_type": "error",
     "traceback": [
      "\u001b[1;31m---------------------------------------------------------------------------\u001b[0m",
      "\u001b[1;31mTypeError\u001b[0m                                 Traceback (most recent call last)",
      "\u001b[1;32mc:\\Users\\Karem\\OneDrive\\Documentos\\Katas\\Kata_10.ipynb Cell 8'\u001b[0m in \u001b[0;36m<module>\u001b[1;34m\u001b[0m\n\u001b[1;32m----> <a href='vscode-notebook-cell:/c%3A/Users/Karem/OneDrive/Documentos/Katas/Kata_10.ipynb#ch0000007?line=0'>1</a>\u001b[0m \u001b[39mprint\u001b[39m(agua_sobrante(\u001b[39m\"\u001b[39;49m\u001b[39m3\u001b[39;49m\u001b[39m\"\u001b[39;49m, \u001b[39m\"\u001b[39;49m\u001b[39m200\u001b[39;49m\u001b[39m\"\u001b[39;49m, \u001b[39mNone\u001b[39;49;00m))\n",
      "\u001b[1;32mc:\\Users\\Karem\\OneDrive\\Documentos\\Katas\\Kata_10.ipynb Cell 5'\u001b[0m in \u001b[0;36magua_sobrante\u001b[1;34m(astronautas, agua_sobrante, dias_sobrantes)\u001b[0m\n\u001b[0;32m      <a href='vscode-notebook-cell:/c%3A/Users/Karem/OneDrive/Documentos/Katas/Kata_10.ipynb#ch0000004?line=0'>1</a>\u001b[0m \u001b[39mdef\u001b[39;00m \u001b[39magua_sobrante\u001b[39m(astronautas, agua_sobrante, dias_sobrantes):\n\u001b[0;32m      <a href='vscode-notebook-cell:/c%3A/Users/Karem/OneDrive/Documentos/Katas/Kata_10.ipynb#ch0000004?line=1'>2</a>\u001b[0m     uso_por_dia \u001b[39m=\u001b[39m astronautas \u001b[39m*\u001b[39m \u001b[39m11\u001b[39m\n\u001b[1;32m----> <a href='vscode-notebook-cell:/c%3A/Users/Karem/OneDrive/Documentos/Katas/Kata_10.ipynb#ch0000004?line=2'>3</a>\u001b[0m     uso_total \u001b[39m=\u001b[39m uso_por_dia \u001b[39m*\u001b[39;49m dias_sobrantes\n\u001b[0;32m      <a href='vscode-notebook-cell:/c%3A/Users/Karem/OneDrive/Documentos/Katas/Kata_10.ipynb#ch0000004?line=3'>4</a>\u001b[0m     agua_total_sobrante \u001b[39m=\u001b[39m agua_sobrante \u001b[39m-\u001b[39m uso_total\n\u001b[0;32m      <a href='vscode-notebook-cell:/c%3A/Users/Karem/OneDrive/Documentos/Katas/Kata_10.ipynb#ch0000004?line=4'>5</a>\u001b[0m     \u001b[39mif\u001b[39;00m agua_total_sobrante \u001b[39m<\u001b[39m \u001b[39m0\u001b[39m:\n",
      "\u001b[1;31mTypeError\u001b[0m: can't multiply sequence by non-int of type 'NoneType'"
     ]
    }
   ],
   "source": [
    "print(agua_sobrante(\"3\", \"200\", None))"
   ]
  },
  {
   "cell_type": "code",
   "execution_count": 48,
   "metadata": {},
   "outputs": [],
   "source": [
    "def agua_sobrante(astronautas, agua_sobrante, dias_sobrantes):\n",
    "    for argumento in [astronautas, agua_sobrante, dias_sobrantes]:\n",
    "        try:\n",
    "            argumento / 10\n",
    "        except TypeError:\n",
    "            raise TypeError(f\"Todos los argumentos deben ser enteros, pero se recibió: '{argumento}'\")\n",
    "    uso_por_dia = astronautas * 11\n",
    "    uso_total = uso_por_dia * dias_sobrantes\n",
    "    agua_total_sobrante = agua_sobrante - uso_total\n",
    "    if agua_total_sobrante < 0:\n",
    "        raise RuntimeError(f\"¡Advertencia! ¡Ya no habrá suficiente agua para {astronautas} astronautas despues de {dias_sobrantes} días!\") \n",
    "    return f\"El agua total que resta después de {dias_sobrantes} días es: {agua_total_sobrante} litros\""
   ]
  },
  {
   "cell_type": "code",
   "execution_count": 49,
   "metadata": {},
   "outputs": [
    {
     "ename": "TypeError",
     "evalue": "Todos los argumentos deben ser enteros, pero se recibió: '3'",
     "output_type": "error",
     "traceback": [
      "\u001b[1;31m---------------------------------------------------------------------------\u001b[0m",
      "\u001b[1;31mTypeError\u001b[0m                                 Traceback (most recent call last)",
      "\u001b[1;32mc:\\Users\\Karem\\OneDrive\\Documentos\\Katas\\Kata_10.ipynb Cell 9'\u001b[0m in \u001b[0;36magua_sobrante\u001b[1;34m(astronautas, agua_sobrante, dias_sobrantes)\u001b[0m\n\u001b[0;32m      <a href='vscode-notebook-cell:/c%3A/Users/Karem/OneDrive/Documentos/Katas/Kata_10.ipynb#ch0000008?line=2'>3</a>\u001b[0m \u001b[39mtry\u001b[39;00m:\n\u001b[1;32m----> <a href='vscode-notebook-cell:/c%3A/Users/Karem/OneDrive/Documentos/Katas/Kata_10.ipynb#ch0000008?line=3'>4</a>\u001b[0m     argumento \u001b[39m/\u001b[39;49m \u001b[39m10\u001b[39;49m\n\u001b[0;32m      <a href='vscode-notebook-cell:/c%3A/Users/Karem/OneDrive/Documentos/Katas/Kata_10.ipynb#ch0000008?line=4'>5</a>\u001b[0m \u001b[39mexcept\u001b[39;00m \u001b[39mTypeError\u001b[39;00m:\n",
      "\u001b[1;31mTypeError\u001b[0m: unsupported operand type(s) for /: 'str' and 'int'",
      "\nDuring handling of the above exception, another exception occurred:\n",
      "\u001b[1;31mTypeError\u001b[0m                                 Traceback (most recent call last)",
      "\u001b[1;32mc:\\Users\\Karem\\OneDrive\\Documentos\\Katas\\Kata_10.ipynb Cell 10'\u001b[0m in \u001b[0;36m<module>\u001b[1;34m\u001b[0m\n\u001b[1;32m----> <a href='vscode-notebook-cell:/c%3A/Users/Karem/OneDrive/Documentos/Katas/Kata_10.ipynb#ch0000009?line=0'>1</a>\u001b[0m agua_sobrante(\u001b[39m\"\u001b[39;49m\u001b[39m3\u001b[39;49m\u001b[39m\"\u001b[39;49m, \u001b[39m\"\u001b[39;49m\u001b[39m200\u001b[39;49m\u001b[39m\"\u001b[39;49m, \u001b[39mNone\u001b[39;49;00m)\n",
      "\u001b[1;32mc:\\Users\\Karem\\OneDrive\\Documentos\\Katas\\Kata_10.ipynb Cell 9'\u001b[0m in \u001b[0;36magua_sobrante\u001b[1;34m(astronautas, agua_sobrante, dias_sobrantes)\u001b[0m\n\u001b[0;32m      <a href='vscode-notebook-cell:/c%3A/Users/Karem/OneDrive/Documentos/Katas/Kata_10.ipynb#ch0000008?line=3'>4</a>\u001b[0m         argumento \u001b[39m/\u001b[39m \u001b[39m10\u001b[39m\n\u001b[0;32m      <a href='vscode-notebook-cell:/c%3A/Users/Karem/OneDrive/Documentos/Katas/Kata_10.ipynb#ch0000008?line=4'>5</a>\u001b[0m     \u001b[39mexcept\u001b[39;00m \u001b[39mTypeError\u001b[39;00m:\n\u001b[1;32m----> <a href='vscode-notebook-cell:/c%3A/Users/Karem/OneDrive/Documentos/Katas/Kata_10.ipynb#ch0000008?line=5'>6</a>\u001b[0m         \u001b[39mraise\u001b[39;00m \u001b[39mTypeError\u001b[39;00m(\u001b[39mf\u001b[39m\u001b[39m\"\u001b[39m\u001b[39mTodos los argumentos deben ser enteros, pero se recibió: \u001b[39m\u001b[39m'\u001b[39m\u001b[39m{\u001b[39;00margumento\u001b[39m}\u001b[39;00m\u001b[39m'\u001b[39m\u001b[39m\"\u001b[39m)\n\u001b[0;32m      <a href='vscode-notebook-cell:/c%3A/Users/Karem/OneDrive/Documentos/Katas/Kata_10.ipynb#ch0000008?line=6'>7</a>\u001b[0m uso_por_dia \u001b[39m=\u001b[39m astronautas \u001b[39m*\u001b[39m \u001b[39m11\u001b[39m\n\u001b[0;32m      <a href='vscode-notebook-cell:/c%3A/Users/Karem/OneDrive/Documentos/Katas/Kata_10.ipynb#ch0000008?line=7'>8</a>\u001b[0m uso_total \u001b[39m=\u001b[39m uso_por_dia \u001b[39m*\u001b[39m dias_sobrantes\n",
      "\u001b[1;31mTypeError\u001b[0m: Todos los argumentos deben ser enteros, pero se recibió: '3'"
     ]
    }
   ],
   "source": [
    "agua_sobrante(\"3\", \"200\", None)"
   ]
  }
 ],
 "metadata": {
  "interpreter": {
   "hash": "0432cb75d53c4c3fc3b2ff7a011aa0c03aefaeb339d438555495bce6647ee539"
  },
  "kernelspec": {
   "display_name": "Python 3.10.2 64-bit",
   "language": "python",
   "name": "python3"
  },
  "language_info": {
   "codemirror_mode": {
    "name": "ipython",
    "version": 3
   },
   "file_extension": ".py",
   "mimetype": "text/x-python",
   "name": "python",
   "nbconvert_exporter": "python",
   "pygments_lexer": "ipython3",
   "version": "3.10.2"
  },
  "orig_nbformat": 4
 },
 "nbformat": 4,
 "nbformat_minor": 2
}
