{
 "cells": [
  {
   "cell_type": "markdown",
   "metadata": {},
   "source": [
    "# KATA 3"
   ]
  },
  {
   "cell_type": "markdown",
   "metadata": {},
   "source": [
    "# Escribir declaraciones if, else, y elif"
   ]
  },
  {
   "cell_type": "markdown",
   "metadata": {},
   "source": [
    "La velocidad del asteroide varía dependiendo de lo cerca que esté del sol, y cualquier velocidad superior a 25 kilómetros por segundo (km/s) merece una advertencia."
   ]
  },
  {
   "cell_type": "markdown",
   "metadata": {},
   "source": [
    "Ejercicio 1:\n",
    "Un asteroide se acerca, y viaja a una velocidad de 49 km/s.\n",
    "Crear una variable que guarde la velocidad del asteroide.\n",
    "Escribe una expresión de prueba para calcular si necesita una advertencia. Agregue las instrucciones que se ejecutarán si la expresión de prueba es true o false."
   ]
  },
  {
   "cell_type": "code",
   "execution_count": 1,
   "metadata": {},
   "outputs": [
    {
     "name": "stdout",
     "output_type": "stream",
     "text": [
      "¡Advertencia! Un asteroide se acerca.\n"
     ]
    }
   ],
   "source": [
    "asteroide1=49\n",
    "if asteroide1 > 25:\n",
    "    print(\"¡Advertencia! Un asteroide se acerca.\")\n",
    "else:\n",
    "    print(\"¡Todo bien!\")"
   ]
  },
  {
   "cell_type": "markdown",
   "metadata": {},
   "source": [
    "Si un asteroide entra en la atmósfera de la Tierra a una velocidad mayor o igual a 20 km/s, a veces produce un rayo de luz que se puede ver desde la Tierra. "
   ]
  },
  {
   "cell_type": "markdown",
   "metadata": {},
   "source": [
    "Ejercicio 2:\n",
    "Escribe la lógica condicional que usa declaraciones if, else, y elif para alertar a las personas de todo el mundo que deben buscar un asteroide en el cielo. ¡Hay uno que se dirige a la tierra ahora a una velocidad de 19 km/s!\n",
    "Agrega el código para crear una variable para un asteroide que viaja a 19 km/s\n",
    "Escribe varias expresiones de prueba para determinar si puedes ver el rayo de luz desde la tierra. Agrega las instrucciones que se ejecutarán si las expresiones de prueba son True o False"
   ]
  },
  {
   "cell_type": "code",
   "execution_count": 2,
   "metadata": {},
   "outputs": [
    {
     "name": "stdout",
     "output_type": "stream",
     "text": [
      "Hizo falta una pizca de suerte para ver el rayo de luz desde la tierra :(\n"
     ]
    }
   ],
   "source": [
    "asteroide2=19\n",
    "\n",
    "if asteroide2 >= 20:\n",
    "    print(\"¡Se acerca un asteroide!, ¡Puedes ver el rayo de luz desde la tierra!\")\n",
    "elif asteroide2 ==19:\n",
    "    print(\"Hizo falta una pizca de suerte para ver el rayo de luz desde la tierra :(\")\n",
    "else:\n",
    "    print(\"Mala suerte, no puedes ver el rayo de luz desde la tierra :(\")"
   ]
  },
  {
   "cell_type": "markdown",
   "metadata": {},
   "source": [
    "# Ejercicio: Uso de operadores and y or\n",
    "Si una pieza de un asteroide que es más grande que 25 metros pero más pequeña que 1000 metros golpeara la Tierra, causaría mucho daño."
   ]
  },
  {
   "cell_type": "markdown",
   "metadata": {},
   "source": [
    "\n",
    "Ejercicio 3: Agrega el código para crear nuevas variables para la velocidad y el tamaño del asteroide. Escribe varias expresiones de prueba o combinaciones de expresiones de prueba para determinar qué mensaje se debe enviar a Tierra."
   ]
  },
  {
   "cell_type": "code",
   "execution_count": 3,
   "metadata": {},
   "outputs": [
    {
     "name": "stdout",
     "output_type": "stream",
     "text": [
      "¡Se acerca un asteoride de gran tamaño y velocidad que causara mucho daño a la tierra!\n"
     ]
    }
   ],
   "source": [
    "tamano=40\n",
    "velocidad=25\n",
    "\n",
    "\n",
    "if tamano > 25 or velocidad > 25:\n",
    "    print(\"¡Se acerca un asteoride de gran tamaño y velocidad que causara mucho daño a la tierra!\")\n",
    "elif tamano == 25 and velocidad == 25:\n",
    "    print(\"Se acerca un asteroide, pero su tamaño y velocidad no son peligrosas\")\n",
    "else:\n",
    "    print(\"Se acerca un asteroide, pero su tamaño y velocidad no son peligrosas\")"
   ]
  }
 ],
 "metadata": {
  "interpreter": {
   "hash": "0432cb75d53c4c3fc3b2ff7a011aa0c03aefaeb339d438555495bce6647ee539"
  },
  "kernelspec": {
   "display_name": "Python 3.10.2 64-bit",
   "language": "python",
   "name": "python3"
  },
  "language_info": {
   "codemirror_mode": {
    "name": "ipython",
    "version": 3
   },
   "file_extension": ".py",
   "mimetype": "text/x-python",
   "name": "python",
   "nbconvert_exporter": "python",
   "pygments_lexer": "ipython3",
   "version": "3.10.2"
  },
  "orig_nbformat": 4
 },
 "nbformat": 4,
 "nbformat_minor": 2
}
